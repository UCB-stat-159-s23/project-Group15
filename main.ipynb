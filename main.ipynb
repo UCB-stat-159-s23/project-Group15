{
 "cells": [
  {
   "cell_type": "markdown",
   "id": "1b9b7ccf-52f8-4797-b904-ccf06b9ceaac",
   "metadata": {
    "user_expressions": []
   },
   "source": [
    "# Project - Group 15\n",
    "Jennifer, Irene, Zac, Yi <br>\n",
    "Stat 159"
   ]
  },
  {
   "cell_type": "code",
   "execution_count": null,
   "id": "32cffa18-08aa-46bb-b1c3-fac8436c057f",
   "metadata": {},
   "outputs": [],
   "source": []
  },
  {
   "cell_type": "code",
   "execution_count": null,
   "id": "23c9d51a-d6c4-4b42-aade-478aba992728",
   "metadata": {},
   "outputs": [],
   "source": []
  },
  {
   "cell_type": "markdown",
   "id": "93d0d966-eb1a-48c6-ba97-027471ec8cc5",
   "metadata": {
    "user_expressions": []
   },
   "source": [
    "## Author Contributions\n",
    "Jennifer: \n",
    "<br>\n",
    "Irene:\n",
    "<br>\n",
    "Zac: \n",
    "<br>\n",
    "Yi: "
   ]
  },
  {
   "cell_type": "code",
   "execution_count": null,
   "id": "9f16786a-0690-4158-b69b-7322a89a8527",
   "metadata": {},
   "outputs": [],
   "source": []
  }
 ],
 "metadata": {
  "kernelspec": {
   "display_name": "Python 3 (ipykernel)",
   "language": "python",
   "name": "python3"
  },
  "language_info": {
   "codemirror_mode": {
    "name": "ipython",
    "version": 3
   },
   "file_extension": ".py",
   "mimetype": "text/x-python",
   "name": "python",
   "nbconvert_exporter": "python",
   "pygments_lexer": "ipython3",
   "version": "3.10.8"
  }
 },
 "nbformat": 4,
 "nbformat_minor": 5
}
