{
 "cells": [
  {
   "cell_type": "markdown",
   "id": "1b9b7ccf-52f8-4797-b904-ccf06b9ceaac",
   "metadata": {
    "user_expressions": []
   },
   "source": [
    "# Project - Group 15\n",
    "Jennifer, Irene, Zac, Yi <br>\n",
    "Stat 159"
   ]
  },
  {
   "cell_type": "code",
   "execution_count": 16,
   "id": "b36b807b-a297-41d3-b684-02c68f781164",
   "metadata": {},
   "outputs": [],
   "source": [
    "# Import necessary packages\n",
    "import pandas as pd\n",
    "import numpy as np\n",
    "from opioidtools import utils"
   ]
  },
  {
   "cell_type": "markdown",
   "id": "561e37ec-526e-4e82-b584-a5a2ca5d7250",
   "metadata": {
    "user_expressions": []
   },
   "source": [
    "## Data"
   ]
  },
  {
   "cell_type": "markdown",
   "id": "5c498051-6443-44e5-91b2-6af8c161d540",
   "metadata": {
    "user_expressions": []
   },
   "source": [
    "### Import Datasets\n",
    "\n",
    "#### ToDo: Add descriptions for dataset source"
   ]
  },
  {
   "cell_type": "code",
   "execution_count": 28,
   "id": "32cffa18-08aa-46bb-b1c3-fac8436c057f",
   "metadata": {},
   "outputs": [],
   "source": [
    "# Opioid Overdose Deaths 1999-2014\n",
    "opioid = pd.read_csv('data/Multiple Cause of Death 1999-2014 v1.1.csv')"
   ]
  },
  {
   "cell_type": "code",
   "execution_count": 29,
   "id": "9516d4be-9577-4903-9d5d-7c55b49225ee",
   "metadata": {},
   "outputs": [],
   "source": [
    "#GDP 2010-2022\n",
    "gdp = pd.read_csv('data/2010 to 2022 Gross Domestic Product_ All Industry Total by State (Millions of Dollars).csv')"
   ]
  },
  {
   "cell_type": "markdown",
   "id": "0c61f205-9b8c-4f3b-a05c-e1bf1bb378d5",
   "metadata": {
    "user_expressions": []
   },
   "source": [
    "### Data Cleaning & Preprocessing\n",
    "#### Opioid Data"
   ]
  },
  {
   "cell_type": "code",
   "execution_count": 30,
   "id": "3d2961e3-407f-4b71-af1b-26ce7a87a6e5",
   "metadata": {},
   "outputs": [],
   "source": [
    "# drop rows with suppressed, unreliable, or na values\n",
    "opioid = opioid[opioid['Deaths']!='Suppressed']\n",
    "opioid = opioid[opioid['Crude Rate']!='Unreliable']\n",
    "opioid = opioid.dropna()"
   ]
  },
  {
   "cell_type": "code",
   "execution_count": 31,
   "id": "441ddd6e-822e-4e8d-866d-d13126e1b2d3",
   "metadata": {},
   "outputs": [],
   "source": [
    "# convert quantitative data to numeric data type\n",
    "opioid['Deaths'] = utils.to_numeric(opioid, 'Deaths')\n",
    "opioid['Crude Rate'] = utils.to_numeric(opioid, 'Crude Rate')"
   ]
  },
  {
   "cell_type": "code",
   "execution_count": 32,
   "id": "c28fcf44-7760-4531-8a47-3bc750e50a02",
   "metadata": {},
   "outputs": [
    {
     "name": "stderr",
     "output_type": "stream",
     "text": [
      "/tmp/ipykernel_33853/1788903058.py:5: FutureWarning: The default value of numeric_only in DataFrameGroupBy.mean is deprecated. In a future version, numeric_only will default to False. Either specify numeric_only or select only columns which should be valid for the function.\n",
      "  opioid_annual = opioid_range.groupby(['Year', 'State'],as_index=False).mean()\n"
     ]
    }
   ],
   "source": [
    "# select opioid data within 2010-2014 (years have data for both gdp & opioid)\n",
    "opioid_range = opioid[(opioid['Year']<=2014) & (opioid['Year']>=2010)]\n",
    "\n",
    "# group data by year and state;\n",
    "opioid_annual = opioid_range.groupby(['Year', 'State'],as_index=False).mean()"
   ]
  },
  {
   "cell_type": "markdown",
   "id": "b5551858-f87d-4ed8-afef-5eea2b966418",
   "metadata": {
    "user_expressions": []
   },
   "source": [
    "#### GDP Data"
   ]
  },
  {
   "cell_type": "code",
   "execution_count": 33,
   "id": "27057488-392a-4205-b7eb-8a7653588760",
   "metadata": {},
   "outputs": [],
   "source": [
    "# Reset indices & rename columns\n",
    "gdp = gdp.reset_index()\n",
    "gdp.columns = gdp.iloc[0]\n",
    "gdp = gdp.tail(-1).reset_index(drop=True).iloc[:,0:8]\n",
    "gdp.rename(columns={'Region Name':'State','2010-01-01': '2010', '2011-01-01': '2011','2012-01-01': '2012', '2013-01-01': '2013', '2014-01-01': '2014'}, inplace=True)"
   ]
  },
  {
   "cell_type": "code",
   "execution_count": 34,
   "id": "eeb52ae0-85d2-454f-80ec-4b0b3af0aee6",
   "metadata": {},
   "outputs": [],
   "source": [
    "# rearrange gdp dataframe so to have years column (so can merge with opioid df)\n",
    "# repeat region rows for each year (5 times)\n",
    "region_info = gdp.iloc[:,0:3] \n",
    "region_info = region_info.loc[np.repeat(region_info.index, 5)].reset_index(drop=True)\n",
    "# change gdp columns to rows\n",
    "years_gdp = gdp.iloc[:,3:8]\n",
    "years_gdp_arr = ([])\n",
    "for i in range(51):\n",
    "    years_gdp_arr = np.append(years_gdp_arr,years_gdp.iloc[i,:].to_numpy())\n",
    "years_gdp=pd.DataFrame(years_gdp_arr, columns =['GDP_0101'])\n",
    "years=pd.DataFrame([2010,2011,2012,2013,2014]*51,columns =['Year'])\n",
    "# concatenate into new dataframe\n",
    "gdp_annual=pd.concat([years,region_info,years_gdp], axis=1, join='inner')"
   ]
  },
  {
   "cell_type": "markdown",
   "id": "5483f80c-7097-4ae2-8601-a05f689a993a",
   "metadata": {
    "user_expressions": []
   },
   "source": [
    "### Merging Dataframes\n",
    "#### Note: reduced to 251 rows bc don't have opioid data for every state for each year"
   ]
  },
  {
   "cell_type": "code",
   "execution_count": 38,
   "id": "56177d59-3433-4e30-9124-7f4b3cafca99",
   "metadata": {},
   "outputs": [
    {
     "data": {
      "text/html": [
       "<div>\n",
       "<style scoped>\n",
       "    .dataframe tbody tr th:only-of-type {\n",
       "        vertical-align: middle;\n",
       "    }\n",
       "\n",
       "    .dataframe tbody tr th {\n",
       "        vertical-align: top;\n",
       "    }\n",
       "\n",
       "    .dataframe thead th {\n",
       "        text-align: right;\n",
       "    }\n",
       "</style>\n",
       "<table border=\"1\" class=\"dataframe\">\n",
       "  <thead>\n",
       "    <tr style=\"text-align: right;\">\n",
       "      <th></th>\n",
       "      <th>Year</th>\n",
       "      <th>Series ID</th>\n",
       "      <th>State</th>\n",
       "      <th>Region Code</th>\n",
       "      <th>GDP_0101</th>\n",
       "      <th>Deaths</th>\n",
       "      <th>Population</th>\n",
       "      <th>Crude Rate</th>\n",
       "      <th>Prescriptions Dispensed by US Retailers in that year (millions)</th>\n",
       "    </tr>\n",
       "  </thead>\n",
       "  <tbody>\n",
       "    <tr>\n",
       "      <th>0</th>\n",
       "      <td>2010</td>\n",
       "      <td>ALNQGSP</td>\n",
       "      <td>Alabama</td>\n",
       "      <td>01</td>\n",
       "      <td>177249.15</td>\n",
       "      <td>194.0</td>\n",
       "      <td>4779736.0</td>\n",
       "      <td>4.1</td>\n",
       "      <td>210.0</td>\n",
       "    </tr>\n",
       "    <tr>\n",
       "      <th>1</th>\n",
       "      <td>2011</td>\n",
       "      <td>ALNQGSP</td>\n",
       "      <td>Alabama</td>\n",
       "      <td>01</td>\n",
       "      <td>183916.625</td>\n",
       "      <td>180.0</td>\n",
       "      <td>4802740.0</td>\n",
       "      <td>3.7</td>\n",
       "      <td>219.0</td>\n",
       "    </tr>\n",
       "    <tr>\n",
       "      <th>2</th>\n",
       "      <td>2012</td>\n",
       "      <td>ALNQGSP</td>\n",
       "      <td>Alabama</td>\n",
       "      <td>01</td>\n",
       "      <td>189245.525</td>\n",
       "      <td>175.0</td>\n",
       "      <td>4822023.0</td>\n",
       "      <td>3.6</td>\n",
       "      <td>217.0</td>\n",
       "    </tr>\n",
       "    <tr>\n",
       "      <th>3</th>\n",
       "      <td>2013</td>\n",
       "      <td>ALNQGSP</td>\n",
       "      <td>Alabama</td>\n",
       "      <td>01</td>\n",
       "      <td>194786.925</td>\n",
       "      <td>175.0</td>\n",
       "      <td>4833722.0</td>\n",
       "      <td>3.6</td>\n",
       "      <td>207.0</td>\n",
       "    </tr>\n",
       "    <tr>\n",
       "      <th>4</th>\n",
       "      <td>2014</td>\n",
       "      <td>ALNQGSP</td>\n",
       "      <td>Alabama</td>\n",
       "      <td>01</td>\n",
       "      <td>197406.85</td>\n",
       "      <td>282.0</td>\n",
       "      <td>4849377.0</td>\n",
       "      <td>5.8</td>\n",
       "      <td>196.0</td>\n",
       "    </tr>\n",
       "    <tr>\n",
       "      <th>...</th>\n",
       "      <td>...</td>\n",
       "      <td>...</td>\n",
       "      <td>...</td>\n",
       "      <td>...</td>\n",
       "      <td>...</td>\n",
       "      <td>...</td>\n",
       "      <td>...</td>\n",
       "      <td>...</td>\n",
       "      <td>...</td>\n",
       "    </tr>\n",
       "    <tr>\n",
       "      <th>246</th>\n",
       "      <td>2010</td>\n",
       "      <td>WYNQGSP</td>\n",
       "      <td>Wyoming</td>\n",
       "      <td>56</td>\n",
       "      <td>37680.725</td>\n",
       "      <td>49.0</td>\n",
       "      <td>563626.0</td>\n",
       "      <td>8.7</td>\n",
       "      <td>210.0</td>\n",
       "    </tr>\n",
       "    <tr>\n",
       "      <th>247</th>\n",
       "      <td>2011</td>\n",
       "      <td>WYNQGSP</td>\n",
       "      <td>Wyoming</td>\n",
       "      <td>56</td>\n",
       "      <td>39751.375</td>\n",
       "      <td>47.0</td>\n",
       "      <td>568158.0</td>\n",
       "      <td>8.3</td>\n",
       "      <td>219.0</td>\n",
       "    </tr>\n",
       "    <tr>\n",
       "      <th>248</th>\n",
       "      <td>2012</td>\n",
       "      <td>WYNQGSP</td>\n",
       "      <td>Wyoming</td>\n",
       "      <td>56</td>\n",
       "      <td>38855.4</td>\n",
       "      <td>47.0</td>\n",
       "      <td>576412.0</td>\n",
       "      <td>8.2</td>\n",
       "      <td>217.0</td>\n",
       "    </tr>\n",
       "    <tr>\n",
       "      <th>249</th>\n",
       "      <td>2013</td>\n",
       "      <td>WYNQGSP</td>\n",
       "      <td>Wyoming</td>\n",
       "      <td>56</td>\n",
       "      <td>39289.775</td>\n",
       "      <td>52.0</td>\n",
       "      <td>582658.0</td>\n",
       "      <td>8.9</td>\n",
       "      <td>207.0</td>\n",
       "    </tr>\n",
       "    <tr>\n",
       "      <th>250</th>\n",
       "      <td>2014</td>\n",
       "      <td>WYNQGSP</td>\n",
       "      <td>Wyoming</td>\n",
       "      <td>56</td>\n",
       "      <td>40310.6</td>\n",
       "      <td>57.0</td>\n",
       "      <td>584153.0</td>\n",
       "      <td>9.8</td>\n",
       "      <td>196.0</td>\n",
       "    </tr>\n",
       "  </tbody>\n",
       "</table>\n",
       "<p>251 rows × 9 columns</p>\n",
       "</div>"
      ],
      "text/plain": [
       "     Year Series ID    State Region Code    GDP_0101  Deaths  Population  \\\n",
       "0    2010   ALNQGSP  Alabama          01   177249.15   194.0   4779736.0   \n",
       "1    2011   ALNQGSP  Alabama          01  183916.625   180.0   4802740.0   \n",
       "2    2012   ALNQGSP  Alabama          01  189245.525   175.0   4822023.0   \n",
       "3    2013   ALNQGSP  Alabama          01  194786.925   175.0   4833722.0   \n",
       "4    2014   ALNQGSP  Alabama          01   197406.85   282.0   4849377.0   \n",
       "..    ...       ...      ...         ...         ...     ...         ...   \n",
       "246  2010   WYNQGSP  Wyoming          56   37680.725    49.0    563626.0   \n",
       "247  2011   WYNQGSP  Wyoming          56   39751.375    47.0    568158.0   \n",
       "248  2012   WYNQGSP  Wyoming          56     38855.4    47.0    576412.0   \n",
       "249  2013   WYNQGSP  Wyoming          56   39289.775    52.0    582658.0   \n",
       "250  2014   WYNQGSP  Wyoming          56     40310.6    57.0    584153.0   \n",
       "\n",
       "     Crude Rate  \\\n",
       "0           4.1   \n",
       "1           3.7   \n",
       "2           3.6   \n",
       "3           3.6   \n",
       "4           5.8   \n",
       "..          ...   \n",
       "246         8.7   \n",
       "247         8.3   \n",
       "248         8.2   \n",
       "249         8.9   \n",
       "250         9.8   \n",
       "\n",
       "     Prescriptions Dispensed by US Retailers in that year (millions)  \n",
       "0                                                210.0                \n",
       "1                                                219.0                \n",
       "2                                                217.0                \n",
       "3                                                207.0                \n",
       "4                                                196.0                \n",
       "..                                                 ...                \n",
       "246                                              210.0                \n",
       "247                                              219.0                \n",
       "248                                              217.0                \n",
       "249                                              207.0                \n",
       "250                                              196.0                \n",
       "\n",
       "[251 rows x 9 columns]"
      ]
     },
     "execution_count": 38,
     "metadata": {},
     "output_type": "execute_result"
    }
   ],
   "source": [
    "# merge datasets by year and state\n",
    "gdp_opioid = pd.merge(gdp_annual, opioid_annual, on=['Year','State'])\n",
    "gdp_opioid"
   ]
  },
  {
   "cell_type": "code",
   "execution_count": 39,
   "id": "8a7c4ab5-7b62-46fc-a4d9-cea785de877b",
   "metadata": {},
   "outputs": [],
   "source": [
    "gdp_opioid.to_csv(\"data/gdp_opioid.csv\",index=False)"
   ]
  }
 ],
 "metadata": {
  "kernelspec": {
   "display_name": "Python 3 (ipykernel)",
   "language": "python",
   "name": "python3"
  },
  "language_info": {
   "codemirror_mode": {
    "name": "ipython",
    "version": 3
   },
   "file_extension": ".py",
   "mimetype": "text/x-python",
   "name": "python",
   "nbconvert_exporter": "python",
   "pygments_lexer": "ipython3",
   "version": "3.10.8"
  }
 },
 "nbformat": 4,
 "nbformat_minor": 5
}
